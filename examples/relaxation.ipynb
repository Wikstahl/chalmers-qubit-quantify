{
 "cells": [
  {
   "cell_type": "code",
   "execution_count": 1,
   "id": "28e736dd",
   "metadata": {},
   "outputs": [],
   "source": [
    "import matplotlib.pyplot as plt\n",
    "import numpy as np\n",
    "from qutip import Qobj, basis, destroy, tensor\n",
    "from chalmers_qubit.sarimner.processor import SarimnerProcessor\n",
    "from chalmers_qubit.sarimner.model import SarimnerModel\n",
    "from chalmers_qubit.sarimner.noise import DecoherenceNoise, ZZCrossTalk\n",
    "from chalmers_qubit.base.operations import project_on_qubit\n",
    "\n",
    "import warnings\n",
    "warnings.simplefilter(action=\"ignore\", category=FutureWarning)"
   ]
  },
  {
   "cell_type": "markdown",
   "id": "462f8ad5",
   "metadata": {},
   "source": [
    "## Longitudinal relaxation"
   ]
  },
  {
   "cell_type": "markdown",
   "id": "3803d780",
   "metadata": {},
   "source": [
    "**Initializing the Qubit System**\n",
    "\n",
    "We start by initializing the parameters of our qubit system: the number of qubits, their frequencies, anharmonicities, and relaxation times $T_1$ and $T_2$. These parameters are essential for accurately modeling the qubit's physical behavior in our simulation. We create a `SarimnerProcessor` instance with these specified parameters to represent our qubit processor."
   ]
  },
  {
   "cell_type": "code",
   "execution_count": 2,
   "id": "55baf6b9",
   "metadata": {},
   "outputs": [],
   "source": [
    "# Qubit frequencies in (GHz)\n",
    "qubit_frequencies = [2 * np.pi * 5.0]\n",
    "# Anharmonicity in (GHz)\n",
    "anharmonicities = [- 2 * np.pi * 0.3]\n",
    "# T1's and T2's for the qubits in (ns)\n",
    "t1 = [60*1e3]\n",
    "t2 = [40*1e3]"
   ]
  },
  {
   "cell_type": "code",
   "execution_count": 3,
   "id": "64ef9c36",
   "metadata": {},
   "outputs": [],
   "source": [
    "# Create the processor with the given hardware parameters\n",
    "# Load the physical parameters onto the model\n",
    "model = SarimnerModel(qubit_frequencies=qubit_frequencies, \n",
    "                      anharmonicities=anharmonicities)\n",
    "\n",
    "# Add noise\n",
    "noise = [DecoherenceNoise(t1=t1, t2=t2)]\n",
    "\n",
    "# Create the processor with the given hardware parameters\n",
    "sarimner = SarimnerProcessor(model=model, noise=noise)"
   ]
  },
  {
   "cell_type": "markdown",
   "id": "4639dd1b",
   "metadata": {},
   "source": [
    "**Simulating the Qubit System**\n",
    "\n",
    "Next, we simulate the master equation to study the qubit's dynamics over time. The simulation begins with the qubit in its excited state, represented by `rho`. We aim to observe how the qubit relaxes back to its ground state over a total time of 200 ns, sampled at 30 points (`tlist`) by measuring the expecation value of the number operator $\\hat a^\\dagger \\hat a$."
   ]
  },
  {
   "cell_type": "code",
   "execution_count": 4,
   "id": "08dc331d",
   "metadata": {},
   "outputs": [],
   "source": [
    "# master equation simulation\n",
    "vac = basis(3,0)\n",
    "a = destroy(3)\n",
    "rho = a.dag() * vac\n",
    "e_ops = [a.dag()*a]\n",
    "t_total = 200*1e3\n",
    "tlist = np.linspace(0,t_total,30)\n",
    "result = sarimner.run_state(rho, tlist=tlist, e_ops=e_ops)"
   ]
  },
  {
   "cell_type": "markdown",
   "id": "2b4a3227",
   "metadata": {},
   "source": [
    "**Plotting the Results**\n",
    "\n",
    "Finally we can visualize the qubit's relaxation process and compare the simulation results with the theoretical prediction."
   ]
  },
  {
   "cell_type": "code",
   "execution_count": 5,
   "id": "c3e2d06b",
   "metadata": {},
   "outputs": [
    {
     "data": {
      "image/png": "[encoded data removed]",
      "text/plain": [
       "<Figure size 640x480 with 1 Axes>"
      ]
     },
     "metadata": {},
     "output_type": "display_data"
    }
   ],
   "source": [
    "t = np.array(result.times)\n",
    "plt.figure(1)\n",
    "plt.plot(t, result.e_data[0], '.', linewidth=.5, label= r'simulation')\n",
    "plt.plot(t, np.exp(-t/t1[0]), '--', linewidth=1, label=r'theory, $\\exp(-t/T1)$')\n",
    "plt.yticks([0,1],[r'$|0\\rangle$',r'$|1\\rangle$'])\n",
    "plt.xlabel(r'Time (ns)')\n",
    "plt.ylabel(r'population')\n",
    "plt.legend();"
   ]
  },
  {
   "cell_type": "markdown",
   "id": "3de2ef15",
   "metadata": {},
   "source": [
    "## Transversal relaxation"
   ]
  },
  {
   "cell_type": "markdown",
   "id": "1bc582b0",
   "metadata": {},
   "source": [
    "To measure the transversal relaxation of the qubit, we adjust our system to operate in a slightly detuned rotating frame. This is achieved by setting the `rotating_frame_frequencies` slightly off from the qubit's resonance frequency (5.1 GHz instead of 5.0 GHz). This detuning is needed for observing the effects of transversal relaxation $T_2$ in the presence of a rotating frame."
   ]
  },
  {
   "cell_type": "code",
   "execution_count": 6,
   "id": "4443058c",
   "metadata": {},
   "outputs": [],
   "source": [
    "# Rotating frame freq in (GHz)\n",
    "rotating_frame_frequencies = [2*np.pi*5.02] # detune the qubit slightly from its resonance freq\n",
    "\n",
    "# Create the processor with the given hardware parameters\n",
    "# Load the physical parameters onto the model\n",
    "model = SarimnerModel(qubit_frequencies=qubit_frequencies, \n",
    "                      anharmonicities=anharmonicities,\n",
    "                      rotating_frame_frequencies=rotating_frame_frequencies)\n",
    "\n",
    "# Add noise\n",
    "noise = [DecoherenceNoise(t1=t1, t2=t2)]\n",
    "\n",
    "# Create the processor with the given hardware parameters\n",
    "sarimner = SarimnerProcessor(model=model, noise=noise)"
   ]
  },
  {
   "cell_type": "markdown",
   "id": "7533414e",
   "metadata": {},
   "source": [
    "Next, we prepare the qubit in the plus-state that lies along the positive x-axis on the Bloch sphere, and we measure the expectation value of the number operator in the $X$-basis."
   ]
  },
  {
   "cell_type": "code",
   "execution_count": 7,
   "id": "b44b4a76",
   "metadata": {},
   "outputs": [],
   "source": [
    "from qutip import Options\n",
    "# Prepare qubit in plus state\n",
    "rho = (basis(3,1) + basis(3,0)).unit()\n",
    "Hadamard = 1/np.sqrt(2) * Qobj([[1,1,0],[1,-1,0],[0,0,0]])\n",
    "e_ops = [Hadamard*a.dag()*a*Hadamard]\n",
    "# Transmon Hamiltonian with a slight detuning\n",
    "t_total = 200 * 1e3 # in (ns)\n",
    "tlist = np.linspace(0, t_total, 500)\n",
    "# master equation simulation\n",
    "result = sarimner.run_state(rho, tlist=tlist, e_ops=e_ops, options=Options(nsteps=1e5))"
   ]
  },
  {
   "cell_type": "markdown",
   "id": "85edab76",
   "metadata": {},
   "source": [
    "Finally, we plot the results and compare the simulation to our theoretical prediction."
   ]
  },
  {
   "cell_type": "code",
   "execution_count": 8,
   "id": "5cb83d3d",
   "metadata": {},
   "outputs": [
    {
     "data": {
      "text/plain": [
       "<matplotlib.legend.Legend at 0x2a8b98700>"
      ]
     },
     "execution_count": 8,
     "metadata": {},
     "output_type": "execute_result"
    },
    {
     "data": {
      "image/png": "[encoded data removed]",
      "text/plain": [
       "<Figure size 640x480 with 1 Axes>"
      ]
     },
     "metadata": {},
     "output_type": "display_data"
    }
   ],
   "source": [
    "fig, ax = plt.subplots()\n",
    "# detail about lenght of tlist needs to be fixed\n",
    "ax.plot(tlist, result.expect[0], '.', linewidth = .5, label=\"simulation\")\n",
    "ax.plot(tlist, (np.exp(-tlist/(t2))+1)/2, '--', linewidth = 1, label=r\"theory, $\\exp(-t/T2^*)$\")\n",
    "plt.yticks([0,.5,1], [r'$|0\\rangle$','',r'$|1\\rangle$'])\n",
    "plt.xlabel(r\"Time (ns)\")\n",
    "plt.ylabel(r\"Ramsey signal\")\n",
    "plt.legend()"
   ]
  },
  {
   "cell_type": "markdown",
   "id": "132a8b96",
   "metadata": {},
   "source": [
    "## ZZ-crosstalk"
   ]
  },
  {
   "cell_type": "markdown",
   "id": "23a60abc",
   "metadata": {},
   "source": [
    "ZZ-crosstalk is a phenomenon in quantum computing, particularly relevant in systems with superconducting qubits, where the interaction between two or more qubits leads to unwanted phase shifts in the qubits that are not being directly operated upon. This effect arises due to the residual coupling between qubits, even when they are not intentionally interacting. The \"ZZ\" refers to the interaction type, denoting the direct coupling between the Z components of the qubit state. ZZ-crosstalk lead to coherent phase errors "
   ]
  },
  {
   "cell_type": "code",
   "execution_count": 9,
   "id": "459b2ec4",
   "metadata": {},
   "outputs": [],
   "source": [
    "# Qubit frequencies in (GHz)\n",
    "qubit_frequencies = [2 * np.pi * 5.0, 2 * np.pi * 5.4]\n",
    "# Anharmonicity in (GHz)\n",
    "anharmonicities = [- 2 * np.pi * 0.3, - 2 * np.pi * 0.3]\n",
    "# Cross talk matrix (GHz)\n",
    "cross_talk_matrix = np.array([[0, 1e-4],\n",
    "                              [0, 0]])"
   ]
  },
  {
   "cell_type": "code",
   "execution_count": 10,
   "id": "6a33199f",
   "metadata": {},
   "outputs": [],
   "source": [
    "# Create the processor with the given hardware parameters\n",
    "# Load the physical parameters onto the model\n",
    "model = SarimnerModel(qubit_frequencies=qubit_frequencies, \n",
    "                      anharmonicities=anharmonicities)\n",
    "\n",
    "# Add noise\n",
    "noise = [ZZCrossTalk(cross_talk_matrix)]\n",
    "\n",
    "# Create the processor with the given hardware parameters\n",
    "sarimner = SarimnerProcessor(model=model, noise=noise)"
   ]
  },
  {
   "cell_type": "code",
   "execution_count": 11,
   "id": "ebdc550c",
   "metadata": {},
   "outputs": [],
   "source": [
    "# Prepare qubit in 11 state\n",
    "rho = tensor(basis(3,1), basis(3,1))\n",
    "# Transmon Hamiltonian with a slight detuning\n",
    "t_total = 400 # in (ns)\n",
    "tlist = np.linspace(0, t_total, 500)\n",
    "# master equation simulation\n",
    "result = sarimner.run_state(rho, tlist=tlist)"
   ]
  },
  {
   "cell_type": "code",
   "execution_count": 12,
   "id": "ab55fec1",
   "metadata": {},
   "outputs": [
    {
     "data": {
      "text/latex": [
       "Quantum object: dims=[[2, 2], [1, 1]], shape=(4, 1), type='ket', dtype=Dense$$\\left(\\begin{array}{cc}0\\\\0\\\\0\\\\(0.999-0.040j)\\end{array}\\right)$$"
      ],
      "text/plain": [
       "Quantum object: dims=[[2, 2], [1, 1]], shape=(4, 1), type='ket', dtype=Dense\n",
       "Qobj data =\n",
       "[[0.        +0.j        ]\n",
       " [0.        +0.j        ]\n",
       " [0.        +0.j        ]\n",
       " [0.99920011-0.03998926j]]"
      ]
     },
     "execution_count": 12,
     "metadata": {},
     "output_type": "execute_result"
    }
   ],
   "source": [
    "project_on_qubit(result.states[-1])"
   ]
  },
  {
   "cell_type": "markdown",
   "id": "e583bcd6",
   "metadata": {},
   "source": [
    "Compute what the expected phase is"
   ]
  },
  {
   "cell_type": "code",
   "execution_count": 13,
   "id": "bef599d4",
   "metadata": {},
   "outputs": [
    {
     "data": {
      "text/plain": [
       "(0.999-0.04j)"
      ]
     },
     "execution_count": 13,
     "metadata": {},
     "output_type": "execute_result"
    }
   ],
   "source": [
    "np.around(np.exp(-1j*cross_talk_matrix[0,1]*t_total),3)"
   ]
  }
 ],
 "metadata": {
  "kernelspec": {
   "display_name": "Python 3 (ipykernel)",
   "language": "python",
   "name": "python3"
  },
  "language_info": {
   "codemirror_mode": {
    "name": "ipython",
    "version": 3
   },
   "file_extension": ".py",
   "mimetype": "text/x-python",
   "name": "python",
   "nbconvert_exporter": "python",
   "pygments_lexer": "ipython3",
   "version": "3.9.7"
  }
 },
 "nbformat": 4,
 "nbformat_minor": 5
}
