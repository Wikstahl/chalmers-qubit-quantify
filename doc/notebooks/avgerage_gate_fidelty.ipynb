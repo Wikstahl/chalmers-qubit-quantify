{
 "cells": [
  {
   "cell_type": "code",
   "execution_count": 1,
   "id": "f125dd5d-b043-40fc-ad2f-a3f03b821443",
   "metadata": {},
   "outputs": [],
   "source": [
    "import matplotlib.pyplot as plt\n",
    "import math\n",
    "from tqdm import tqdm\n",
    "from qutip import *\n",
    "from device import ChalmersQubits\n",
    "from qutip_qip.circuit import QubitCircuit, Gate\n",
    "from qutip_qip.operations import rz, rx, ry\n",
    "from qutip_qip.compiler import Scheduler, Instruction\n",
    "from device.operations import *\n",
    "import numpy as np\n",
    "%load_ext autoreload\n",
    "%autoreload 2"
   ]
  },
  {
   "cell_type": "code",
   "execution_count": 2,
   "id": "39176f1f-94e4-4055-ace6-6757ec0d41b9",
   "metadata": {},
   "outputs": [],
   "source": [
    "def modified_pauli_matrices():\n",
    "    modified_pauli = []\n",
    "    # Identity\n",
    "    modified_pauli.append(Qobj(np.array([[1, 0, 0], [0, 1, 0], [0, 0, 0]])))\n",
    "    # Sigma X\n",
    "    modified_pauli.append(Qobj(np.array([[0, 1, 0], [1, 0, 0], [0, 0, 0]])))\n",
    "    # Sigma Y\n",
    "    modified_pauli.append(Qobj(np.array([[0, -1j, 0], [1j, 0, 0], [0, 0, 0]])))\n",
    "    # Sigma Z\n",
    "    modified_pauli.append(Qobj(np.array([[1, 0, 0], [0, -1, 0], [0, 0, 0]])))\n",
    "    return modified_pauli\n",
    "\n",
    "modified_pauli = modified_pauli_matrices()"
   ]
  },
  {
   "cell_type": "code",
   "execution_count": 3,
   "id": "096004f6-6381-4c3b-9aa7-0a579b94338c",
   "metadata": {},
   "outputs": [],
   "source": [
    "def all_possible_combinations(matrices, num_qutrits):\n",
    "    if num_qutrits == 1:\n",
    "        return matrices\n",
    "    else:\n",
    "        prev_combinations = all_possible_combinations(matrices, num_qutrits - 1)\n",
    "        new_combinations = []\n",
    "        for m1 in matrices:\n",
    "            for m2 in prev_combinations:\n",
    "                new_combinations.append(tensor(m1, m2))\n",
    "        return new_combinations"
   ]
  },
  {
   "cell_type": "markdown",
   "id": "7c2cd086-6a74-4b2a-80e6-deeb1a3c410d",
   "metadata": {},
   "source": [
    "# Average Gate Fidelity 3 Qubit Gate"
   ]
  },
  {
   "cell_type": "code",
   "execution_count": 23,
   "id": "59257ab5-b916-4fad-b455-31aab49fcc01",
   "metadata": {},
   "outputs": [],
   "source": [
    "# Ideal gate\n",
    "def cczs(args):\n",
    "    theta, phi, gamma = args\n",
    "    U = np.array([[1, 0, 0, 0, 0, 0, 0, 0],\n",
    "                  [0, 1, 0, 0, 0, 0, 0, 0],\n",
    "                  [0, 0, 1, 0, 0, 0, 0, 0],\n",
    "                  [0, 0, 0, 1, 0, 0, 0, 0],\n",
    "                  [0, 0, 0, 0, 1, 0, 0, 0],\n",
    "                  [0, 0, 0, 0, 0, -np.exp(-1j*gamma)*np.sin(theta/2)**2 + np.cos(theta/2)**2, \n",
    "                                    (1/2)*(1 + np.exp(-1j*gamma))*np.exp(-1j*phi)*np.sin(theta), 0],\n",
    "                  [0, 0, 0, 0, 0, (1/2)*(1 + np.exp(-1j*gamma))*np.exp(1j*phi)*np.sin(theta), \n",
    "                                    -np.exp(-1j*gamma)*np.cos(theta/2)**2 + np.sin(theta/2)**2, 0],\n",
    "                  [0, 0, 0, 0, 0, 0, 0, -np.exp(1j*gamma)]], dtype=\"complex\")\n",
    "    return Qobj(U, dims=[[2]*3, [2]*3])"
   ]
  },
  {
   "cell_type": "code",
   "execution_count": 24,
   "id": "e76735a7-ecc9-4c77-b808-0ca748f8f261",
   "metadata": {},
   "outputs": [
    {
     "data": {
      "text/latex": [
       "Quantum object: dims = [[2, 2, 2], [2, 2, 2]], shape = (8, 8), type = oper, isherm = True\\begin{equation*}\\left(\\begin{array}{*{11}c}1.0 & 0.0 & 0.0 & 0.0 & 0.0 & 0.0 & 0.0 & 0.0\\\\0.0 & 1.0 & 0.0 & 0.0 & 0.0 & 0.0 & 0.0 & 0.0\\\\0.0 & 0.0 & 1.0 & 0.0 & 0.0 & 0.0 & 0.0 & 0.0\\\\0.0 & 0.0 & 0.0 & 1.0 & 0.0 & 0.0 & 0.0 & 0.0\\\\0.0 & 0.0 & 0.0 & 0.0 & 1.0 & 0.0 & 0.0 & 0.0\\\\0.0 & 0.0 & 0.0 & 0.0 & 0.0 & 0.0 & -1.0j & 0.0\\\\0.0 & 0.0 & 0.0 & 0.0 & 0.0 & 1.0j & 0.0 & 0.0\\\\0.0 & 0.0 & 0.0 & 0.0 & 0.0 & 0.0 & 0.0 & -1.0\\\\\\end{array}\\right)\\end{equation*}"
      ],
      "text/plain": [
       "Quantum object: dims = [[2, 2, 2], [2, 2, 2]], shape = (8, 8), type = oper, isherm = True\n",
       "Qobj data =\n",
       "[[ 1.+0.j  0.+0.j  0.+0.j  0.+0.j  0.+0.j  0.+0.j  0.+0.j  0.+0.j]\n",
       " [ 0.+0.j  1.+0.j  0.+0.j  0.+0.j  0.+0.j  0.+0.j  0.+0.j  0.+0.j]\n",
       " [ 0.+0.j  0.+0.j  1.+0.j  0.+0.j  0.+0.j  0.+0.j  0.+0.j  0.+0.j]\n",
       " [ 0.+0.j  0.+0.j  0.+0.j  1.+0.j  0.+0.j  0.+0.j  0.+0.j  0.+0.j]\n",
       " [ 0.+0.j  0.+0.j  0.+0.j  0.+0.j  1.+0.j  0.+0.j  0.+0.j  0.+0.j]\n",
       " [ 0.+0.j  0.+0.j  0.+0.j  0.+0.j  0.+0.j  0.+0.j  0.-1.j  0.+0.j]\n",
       " [ 0.+0.j  0.+0.j  0.+0.j  0.+0.j  0.+0.j  0.+1.j  0.+0.j  0.+0.j]\n",
       " [ 0.+0.j  0.+0.j  0.+0.j  0.+0.j  0.+0.j  0.+0.j  0.+0.j -1.+0.j]]"
      ]
     },
     "execution_count": 24,
     "metadata": {},
     "output_type": "execute_result"
    }
   ],
   "source": [
    "# Define a circuit and run the simulation\n",
    "num_qubits = 3\n",
    "\n",
    "# Dimension\n",
    "d = 2**num_qubits\n",
    "\n",
    "# Create all combinations of Paulis\n",
    "all_paulis = all_possible_combinations(modified_pauli, num_qubits)\n",
    "\n",
    "# This is the total number of combinations\n",
    "num_paulis = len(all_paulis)\n",
    "\n",
    "# Quantum circuit\n",
    "circuit = QubitCircuit(num_qubits)\n",
    "circuit.user_gates = {\"CCZS\": cczs}\n",
    "\n",
    "# CCZS\n",
    "circuit.add_gate(\"CCZS\", targets=[0,1,2], arg_value=[np.pi/2,np.pi/2,0])\n",
    "\n",
    "# Compute the ideal unitary from the circuit\n",
    "U = circuit.compute_unitary()\n",
    "U"
   ]
  },
  {
   "cell_type": "code",
   "execution_count": 25,
   "id": "d2072916-9deb-4d20-84c1-c31898b7df49",
   "metadata": {},
   "outputs": [],
   "source": [
    "t1 = 40 * 10**3 # nano seconds\n",
    "t2 = 60 * 10**3 # nano seconds\n",
    "# Create quantum device\n",
    "myprocessor = ChalmersQubits(num_qubits, t1=t1, t2=t2)\n",
    "# Load circuit onto device\n",
    "tlist, coeffs = myprocessor.load_circuit(circuit)"
   ]
  },
  {
   "cell_type": "code",
   "execution_count": 26,
   "id": "0f3727c0-eda8-4f81-b529-7988875e9e19",
   "metadata": {},
   "outputs": [
    {
     "name": "stderr",
     "output_type": "stream",
     "text": [
      "Computing average gate fidelity: 100%|█| 64/64 [07:45<00:00,  7.27s/pauli operat\n"
     ]
    }
   ],
   "source": [
    "# average gate fidelity\n",
    "F = 0\n",
    "# compute the average gate fidelity\n",
    "for idx, pauli in enumerate(tqdm(all_paulis, desc=\"Computing average gate fidelity\", unit=\"pauli operator\")):\n",
    "    # Run master equation simulation\n",
    "    rho = myprocessor.run_state(pauli)\n",
    "    # Project the modified Pauli onto the qubit subspace\n",
    "    P = project_on_qubit(pauli)\n",
    "    # Project the final state onto the qubit subspace\n",
    "    M = project_on_qubit(rho.states[-1])\n",
    "    # Sum up the measurements to get the avg gate fid\n",
    "    F += ((U*P.dag()*U.dag()*M).tr())"
   ]
  },
  {
   "cell_type": "markdown",
   "id": "d57581ea-1950-4166-ad47-d399d606d5a1",
   "metadata": {},
   "source": [
    "Average gate fidelity with noise"
   ]
  },
  {
   "cell_type": "code",
   "execution_count": 31,
   "id": "4146d23c-b57b-49db-809b-4e4b07df985b",
   "metadata": {},
   "outputs": [
    {
     "name": "stdout",
     "output_type": "stream",
     "text": [
      "Average gate fidelity 98.02\n"
     ]
    }
   ],
   "source": [
    "avg_gate_fid = ((F+d**2)/(d**2*(d+1))).real\n",
    "print(\"Average gate fidelity\",round(avg_gate_fid*100,2))"
   ]
  },
  {
   "cell_type": "markdown",
   "id": "525b22e8-2327-4985-9e04-13834cce01be",
   "metadata": {},
   "source": [
    "Average gate fidelity with no noise"
   ]
  },
  {
   "cell_type": "code",
   "execution_count": 28,
   "id": "cd9f6ddb-4c30-41e2-aed7-0654a4ad6eee",
   "metadata": {},
   "outputs": [],
   "source": [
    "rho = myprocessor.run_propagator(noisy=False)\n",
    "M = project_on_qubit(rho[-1])"
   ]
  },
  {
   "cell_type": "code",
   "execution_count": 29,
   "id": "d3b72a3f-6754-4cd0-a876-467a3fa04b39",
   "metadata": {},
   "outputs": [
    {
     "name": "stdout",
     "output_type": "stream",
     "text": [
      "Noiseless Average gate fidelity 100.0\n"
     ]
    }
   ],
   "source": [
    "print(\"Noiseless Average gate fidelity\",round(average_gate_fidelity(U,M)*100,2))"
   ]
  },
  {
   "cell_type": "markdown",
   "id": "cdd2f483-4345-459e-a8f4-9db898929e0b",
   "metadata": {},
   "source": [
    "# Average Gate Fidelity 2 Qubit Gate"
   ]
  },
  {
   "cell_type": "code",
   "execution_count": 18,
   "id": "6166b70b-2987-486d-9068-483a4bf5b5bc",
   "metadata": {},
   "outputs": [
    {
     "data": {
      "text/latex": [
       "Quantum object: dims = [[2, 2], [2, 2]], shape = (4, 4), type = oper, isherm = True\\begin{equation*}\\left(\\begin{array}{*{11}c}1.0 & 0.0 & 0.0 & 0.0\\\\0.0 & 1.0 & 0.0 & 0.0\\\\0.0 & 0.0 & 1.0 & 0.0\\\\0.0 & 0.0 & 0.0 & -1.0\\\\\\end{array}\\right)\\end{equation*}"
      ],
      "text/plain": [
       "Quantum object: dims = [[2, 2], [2, 2]], shape = (4, 4), type = oper, isherm = True\n",
       "Qobj data =\n",
       "[[ 1.  0.  0.  0.]\n",
       " [ 0.  1.  0.  0.]\n",
       " [ 0.  0.  1.  0.]\n",
       " [ 0.  0.  0. -1.]]"
      ]
     },
     "execution_count": 18,
     "metadata": {},
     "output_type": "execute_result"
    }
   ],
   "source": [
    "# Define a circuit and run the simulation\n",
    "num_qubits = 2\n",
    "\n",
    "# Dimension\n",
    "d = 2**num_qubits\n",
    "\n",
    "# Create all combinations of Paulis\n",
    "all_paulis = all_possible_combinations(modified_pauli, num_qubits)\n",
    "\n",
    "# This is the total number of combinations\n",
    "num_paulis = len(all_paulis)\n",
    "\n",
    "# Quantum circuit\n",
    "circuit = QubitCircuit(num_qubits)\n",
    "\n",
    "# CZ\n",
    "circuit.add_gate(\"CZ\", targets=[1], controls=[0])\n",
    "\n",
    "# Compute the ideal unitary from the circuit\n",
    "U = circuit.compute_unitary()\n",
    "U"
   ]
  },
  {
   "cell_type": "code",
   "execution_count": 19,
   "id": "7582f6a6-f68c-41c6-bc64-35115264b4fd",
   "metadata": {},
   "outputs": [],
   "source": [
    "t1 = 40 * 10**3 # nano seconds\n",
    "t2 = 60 * 10**3 # nano seconds\n",
    "# Create quantum device\n",
    "myprocessor = ChalmersQubits(num_qubits, t1=t1, t2=t2)\n",
    "# Load circuit onto device\n",
    "tlist, coeffs = myprocessor.load_circuit(circuit)"
   ]
  },
  {
   "cell_type": "code",
   "execution_count": 20,
   "id": "ab58a7b7-f9a3-40db-a4ff-ad5c0eba78e3",
   "metadata": {},
   "outputs": [
    {
     "name": "stderr",
     "output_type": "stream",
     "text": [
      "Computing average gate fidelity: 100%|█| 16/16 [00:15<00:00,  1.04pauli operator\n"
     ]
    }
   ],
   "source": [
    "# average gate fidelity\n",
    "F = 0\n",
    "# compute the average gate fidelity\n",
    "for idx, pauli in enumerate(tqdm(all_paulis, desc=\"Computing average gate fidelity\", unit=\"pauli operator\")):\n",
    "    # Run master equation simulation\n",
    "    rho = myprocessor.run_state(pauli)\n",
    "    # Project the modified Pauli onto the qubit subspace\n",
    "    P = project_on_qubit(pauli)\n",
    "    # Project the final state onto the qubit subspace\n",
    "    M = project_on_qubit(rho.states[-1])\n",
    "    # Sum up the measurements to get the avg gate fid\n",
    "    F += ((U*P.dag()*U.dag()*M).tr())"
   ]
  },
  {
   "cell_type": "code",
   "execution_count": 21,
   "id": "af9baaa6-deac-4e2c-9acd-296846996270",
   "metadata": {},
   "outputs": [
    {
     "name": "stdout",
     "output_type": "stream",
     "text": [
      "Average gate fidelity 98.39\n"
     ]
    }
   ],
   "source": [
    "avg_gate_fid = ((F+d**2)/(d**2*(d+1))).real\n",
    "print(\"Average gate fidelity\",round(avg_gate_fid*100,2))"
   ]
  },
  {
   "cell_type": "code",
   "execution_count": 22,
   "id": "05fc9c97-0b5b-47dd-afee-46bd940d49d0",
   "metadata": {},
   "outputs": [
    {
     "name": "stdout",
     "output_type": "stream",
     "text": [
      "Noiseless Average gate fidelity 100.0\n"
     ]
    }
   ],
   "source": [
    "rho = myprocessor.run_propagator(noisy=False)\n",
    "M = project_on_qubit(rho[-1])\n",
    "print(\"Noiseless Average gate fidelity\",round(average_gate_fidelity(U,M)*100,2))"
   ]
  },
  {
   "cell_type": "markdown",
   "id": "404a969a-dd81-45e9-b3f2-62eb16fe5f87",
   "metadata": {},
   "source": [
    "# Average Gate Fidelity 1 Qubit Gate"
   ]
  },
  {
   "cell_type": "code",
   "execution_count": 32,
   "id": "2c1d6fc3-0b0d-4ca3-853a-69c8b1409663",
   "metadata": {},
   "outputs": [
    {
     "data": {
      "text/latex": [
       "Quantum object: dims = [[2], [2]], shape = (2, 2), type = oper, isherm = False\\begin{equation*}\\left(\\begin{array}{*{11}c}0.0 & -1.0j\\\\-1.0j & 0.0\\\\\\end{array}\\right)\\end{equation*}"
      ],
      "text/plain": [
       "Quantum object: dims = [[2], [2]], shape = (2, 2), type = oper, isherm = False\n",
       "Qobj data =\n",
       "[[0.+0.j 0.-1.j]\n",
       " [0.-1.j 0.+0.j]]"
      ]
     },
     "execution_count": 32,
     "metadata": {},
     "output_type": "execute_result"
    }
   ],
   "source": [
    "# Define a circuit and run the simulation\n",
    "num_qubits = 1\n",
    "\n",
    "# Dimension\n",
    "d = 2**num_qubits\n",
    "\n",
    "# Create all combinations of Paulis\n",
    "all_paulis = all_possible_combinations(modified_pauli, num_qubits)\n",
    "\n",
    "# This is the total number of combinations\n",
    "num_paulis = len(all_paulis)\n",
    "\n",
    "# Quantum circuit\n",
    "circuit = QubitCircuit(num_qubits)\n",
    "\n",
    "# RX\n",
    "circuit.add_gate(\"RX\", targets=[0], arg_value=np.pi)\n",
    "\n",
    "# Compute the ideal unitary from the circuit\n",
    "U = circuit.compute_unitary()\n",
    "U"
   ]
  },
  {
   "cell_type": "code",
   "execution_count": 33,
   "id": "2cb50a26-5a11-44ed-9c9c-43441f237fd0",
   "metadata": {},
   "outputs": [],
   "source": [
    "t1 = 40 * 10**3 # nano seconds\n",
    "t2 = 60 * 10**3 # nano seconds\n",
    "# Create quantum device\n",
    "myprocessor = ChalmersQubits(num_qubits, t1=t1, t2=t2)\n",
    "# Load circuit onto device\n",
    "tlist, coeffs = myprocessor.load_circuit(circuit)"
   ]
  },
  {
   "cell_type": "code",
   "execution_count": 34,
   "id": "242f91af-f0bf-4acd-93ea-a9a86c67e853",
   "metadata": {},
   "outputs": [
    {
     "name": "stderr",
     "output_type": "stream",
     "text": [
      "Computing average gate fidelity: 100%|█| 4/4 [00:00<00:00,  4.55pauli operator/s\n"
     ]
    }
   ],
   "source": [
    "# average gate fidelity\n",
    "F = 0\n",
    "# compute the average gate fidelity\n",
    "for idx, pauli in enumerate(tqdm(all_paulis, desc=\"Computing average gate fidelity\", unit=\"pauli operator\")):\n",
    "    # Run master equation simulation\n",
    "    rho = myprocessor.run_state(pauli)\n",
    "    # Project the modified Pauli onto the qubit subspace\n",
    "    P = project_on_qubit(pauli)\n",
    "    # Project the final state onto the qubit subspace\n",
    "    M = project_on_qubit(rho.states[-1])\n",
    "    # Sum up the measurements to get the avg gate fid\n",
    "    F += ((U*P.dag()*U.dag()*M).tr())"
   ]
  },
  {
   "cell_type": "code",
   "execution_count": 36,
   "id": "2b22ea90-b903-44f0-8788-48ff6addd0ce",
   "metadata": {},
   "outputs": [
    {
     "name": "stdout",
     "output_type": "stream",
     "text": [
      "Noiseless Average gate fidelity 99.9996\n"
     ]
    }
   ],
   "source": [
    "rho = myprocessor.run_propagator(noisy=False)\n",
    "M = project_on_qubit(rho[-1])\n",
    "print(\"Noiseless Average gate fidelity\",round(average_gate_fidelity(U,M)*100,4))"
   ]
  },
  {
   "cell_type": "code",
   "execution_count": 37,
   "id": "bc31d3ce-e5b1-488a-becf-9c5e36f72732",
   "metadata": {},
   "outputs": [
    {
     "data": {
      "text/plain": [
       "0.006283185307179587"
      ]
     },
     "execution_count": 37,
     "metadata": {},
     "output_type": "execute_result"
    }
   ],
   "source": [
    "2 * np.pi * 1 * 1e-3"
   ]
  },
  {
   "cell_type": "code",
   "execution_count": null,
   "id": "8258ed91-cf3c-43c6-9104-ff85dc9b5a72",
   "metadata": {},
   "outputs": [],
   "source": []
  }
 ],
 "metadata": {
  "kernelspec": {
   "display_name": "Python 3 (ipykernel)",
   "language": "python",
   "name": "python3"
  },
  "language_info": {
   "codemirror_mode": {
    "name": "ipython",
    "version": 3
   },
   "file_extension": ".py",
   "mimetype": "text/x-python",
   "name": "python",
   "nbconvert_exporter": "python",
   "pygments_lexer": "ipython3",
   "version": "3.9.12"
  }
 },
 "nbformat": 4,
 "nbformat_minor": 5
}
